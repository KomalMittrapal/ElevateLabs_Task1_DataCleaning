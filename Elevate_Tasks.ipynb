{
  "nbformat": 4,
  "nbformat_minor": 0,
  "metadata": {
    "colab": {
      "provenance": []
    },
    "kernelspec": {
      "name": "python3",
      "display_name": "Python 3"
    },
    "language_info": {
      "name": "python"
    }
  },
  "cells": [
    {
      "cell_type": "markdown",
      "source": [
        "# TASK 1 - Data Cleaning and Preprocessing"
      ],
      "metadata": {
        "id": "0AtDy5npH0aW"
      }
    },
    {
      "cell_type": "code",
      "execution_count": 22,
      "metadata": {
        "id": "z2DQKBidHt50"
      },
      "outputs": [],
      "source": [
        "# Customer Personality Analysis - Data Cleaning\n",
        "\n",
        "import pandas as pd\n",
        "import numpy as np\n",
        "\n",
        "# Load the dataset\n",
        "df = pd.read_csv(\"marketing_campaign.csv\", sep='\\t')"
      ]
    },
    {
      "cell_type": "code",
      "source": [
        "# Basic Info\n",
        "print(\"Shape:\", df.shape)\n",
        "print(df.head())\n",
        "print(df.info())"
      ],
      "metadata": {
        "colab": {
          "base_uri": "https://localhost:8080/"
        },
        "id": "8DTl_hF4Tklw",
        "outputId": "cad55f00-5c76-4d98-ca7b-a21fd386a415"
      },
      "execution_count": 23,
      "outputs": [
        {
          "output_type": "stream",
          "name": "stdout",
          "text": [
            "Shape: (2240, 29)\n",
            "     ID  Year_Birth   Education Marital_Status   Income  Kidhome  Teenhome  \\\n",
            "0  5524        1957  Graduation         Single  58138.0        0         0   \n",
            "1  2174        1954  Graduation         Single  46344.0        1         1   \n",
            "2  4141        1965  Graduation       Together  71613.0        0         0   \n",
            "3  6182        1984  Graduation       Together  26646.0        1         0   \n",
            "4  5324        1981         PhD        Married  58293.0        1         0   \n",
            "\n",
            "  Dt_Customer  Recency  MntWines  ...  NumWebVisitsMonth  AcceptedCmp3  \\\n",
            "0  04-09-2012       58       635  ...                  7             0   \n",
            "1  08-03-2014       38        11  ...                  5             0   \n",
            "2  21-08-2013       26       426  ...                  4             0   \n",
            "3  10-02-2014       26        11  ...                  6             0   \n",
            "4  19-01-2014       94       173  ...                  5             0   \n",
            "\n",
            "   AcceptedCmp4  AcceptedCmp5  AcceptedCmp1  AcceptedCmp2  Complain  \\\n",
            "0             0             0             0             0         0   \n",
            "1             0             0             0             0         0   \n",
            "2             0             0             0             0         0   \n",
            "3             0             0             0             0         0   \n",
            "4             0             0             0             0         0   \n",
            "\n",
            "   Z_CostContact  Z_Revenue  Response  \n",
            "0              3         11         1  \n",
            "1              3         11         0  \n",
            "2              3         11         0  \n",
            "3              3         11         0  \n",
            "4              3         11         0  \n",
            "\n",
            "[5 rows x 29 columns]\n",
            "<class 'pandas.core.frame.DataFrame'>\n",
            "RangeIndex: 2240 entries, 0 to 2239\n",
            "Data columns (total 29 columns):\n",
            " #   Column               Non-Null Count  Dtype  \n",
            "---  ------               --------------  -----  \n",
            " 0   ID                   2240 non-null   int64  \n",
            " 1   Year_Birth           2240 non-null   int64  \n",
            " 2   Education            2240 non-null   object \n",
            " 3   Marital_Status       2240 non-null   object \n",
            " 4   Income               2216 non-null   float64\n",
            " 5   Kidhome              2240 non-null   int64  \n",
            " 6   Teenhome             2240 non-null   int64  \n",
            " 7   Dt_Customer          2240 non-null   object \n",
            " 8   Recency              2240 non-null   int64  \n",
            " 9   MntWines             2240 non-null   int64  \n",
            " 10  MntFruits            2240 non-null   int64  \n",
            " 11  MntMeatProducts      2240 non-null   int64  \n",
            " 12  MntFishProducts      2240 non-null   int64  \n",
            " 13  MntSweetProducts     2240 non-null   int64  \n",
            " 14  MntGoldProds         2240 non-null   int64  \n",
            " 15  NumDealsPurchases    2240 non-null   int64  \n",
            " 16  NumWebPurchases      2240 non-null   int64  \n",
            " 17  NumCatalogPurchases  2240 non-null   int64  \n",
            " 18  NumStorePurchases    2240 non-null   int64  \n",
            " 19  NumWebVisitsMonth    2240 non-null   int64  \n",
            " 20  AcceptedCmp3         2240 non-null   int64  \n",
            " 21  AcceptedCmp4         2240 non-null   int64  \n",
            " 22  AcceptedCmp5         2240 non-null   int64  \n",
            " 23  AcceptedCmp1         2240 non-null   int64  \n",
            " 24  AcceptedCmp2         2240 non-null   int64  \n",
            " 25  Complain             2240 non-null   int64  \n",
            " 26  Z_CostContact        2240 non-null   int64  \n",
            " 27  Z_Revenue            2240 non-null   int64  \n",
            " 28  Response             2240 non-null   int64  \n",
            "dtypes: float64(1), int64(25), object(3)\n",
            "memory usage: 507.6+ KB\n",
            "None\n"
          ]
        }
      ]
    },
    {
      "cell_type": "code",
      "source": [
        "# Check missing values\n",
        "print(\"\\nMissing values per column:\")\n",
        "print(df.isnull().sum())"
      ],
      "metadata": {
        "colab": {
          "base_uri": "https://localhost:8080/"
        },
        "id": "bOLWdwYgKSGM",
        "outputId": "abbdffb0-b0c4-4497-9449-3288b2cb4d0d"
      },
      "execution_count": 24,
      "outputs": [
        {
          "output_type": "stream",
          "name": "stdout",
          "text": [
            "\n",
            "Missing values per column:\n",
            "ID                      0\n",
            "Year_Birth              0\n",
            "Education               0\n",
            "Marital_Status          0\n",
            "Income                 24\n",
            "Kidhome                 0\n",
            "Teenhome                0\n",
            "Dt_Customer             0\n",
            "Recency                 0\n",
            "MntWines                0\n",
            "MntFruits               0\n",
            "MntMeatProducts         0\n",
            "MntFishProducts         0\n",
            "MntSweetProducts        0\n",
            "MntGoldProds            0\n",
            "NumDealsPurchases       0\n",
            "NumWebPurchases         0\n",
            "NumCatalogPurchases     0\n",
            "NumStorePurchases       0\n",
            "NumWebVisitsMonth       0\n",
            "AcceptedCmp3            0\n",
            "AcceptedCmp4            0\n",
            "AcceptedCmp5            0\n",
            "AcceptedCmp1            0\n",
            "AcceptedCmp2            0\n",
            "Complain                0\n",
            "Z_CostContact           0\n",
            "Z_Revenue               0\n",
            "Response                0\n",
            "dtype: int64\n"
          ]
        }
      ]
    },
    {
      "cell_type": "code",
      "source": [
        "# Handle missing values\n",
        "num_cols = df.select_dtypes(include=np.number).columns\n",
        "cat_cols = df.select_dtypes(include='object').columns\n",
        "\n",
        "for col in num_cols:\n",
        "    df.loc[:, col] = df[col].fillna(df[col].median())\n",
        "\n",
        "for col in cat_cols:\n",
        "    df.loc[:, col] = df[col].fillna(df[col].mode()[0])"
      ],
      "metadata": {
        "id": "UHJ8vxDoKSQo"
      },
      "execution_count": 25,
      "outputs": []
    },
    {
      "cell_type": "code",
      "source": [
        "# Remove duplicates\n",
        "print(\"\\nDuplicates before:\", df.duplicated().sum())\n",
        "df.drop_duplicates(inplace=True)\n",
        "print(\"Duplicates after:\", df.duplicated().sum())"
      ],
      "metadata": {
        "colab": {
          "base_uri": "https://localhost:8080/"
        },
        "id": "4qVjWSLPKSbE",
        "outputId": "74a6e051-921c-4328-e245-ac3841675027"
      },
      "execution_count": 26,
      "outputs": [
        {
          "output_type": "stream",
          "name": "stdout",
          "text": [
            "\n",
            "Duplicates before: 0\n",
            "Duplicates after: 0\n"
          ]
        }
      ]
    },
    {
      "cell_type": "code",
      "source": [
        "# Clean column names\n",
        "df.columns = (\n",
        "    df.columns\n",
        "      .str.strip()\n",
        "      .str.lower()\n",
        "      .str.replace(' ', '_')\n",
        "      .str.replace('[^0-9a-zA-Z_]', '', regex=True)\n",
        ")"
      ],
      "metadata": {
        "id": "SZ3DUKs6Klr4"
      },
      "execution_count": 27,
      "outputs": []
    },
    {
      "cell_type": "code",
      "source": [
        "# Clean text columns\n",
        "cat_cols = df.select_dtypes(include='object').columns\n",
        "\n",
        "for col in cat_cols:\n",
        "    df.loc[:, col] = df[col].astype(str).str.strip().str.lower()"
      ],
      "metadata": {
        "id": "4m5gGhU5KSjr"
      },
      "execution_count": 28,
      "outputs": []
    },
    {
      "cell_type": "code",
      "source": [
        "# Convert 'dt_customer' column to date-time format\n",
        "if 'dt_customer' in df.columns:\n",
        "    df['dt_customer'] = pd.to_datetime(df['dt_customer'], errors='coerce')"
      ],
      "metadata": {
        "id": "JKW0TA3rKSsC"
      },
      "execution_count": 29,
      "outputs": []
    },
    {
      "cell_type": "code",
      "source": [
        "# Handle outliers using IQR (for numeric columns)\n",
        "num_cols = df.select_dtypes(include=np.number).columns\n",
        "\n",
        "for col in num_cols:\n",
        "    Q1 = df[col].quantile(0.25)\n",
        "    Q3 = df[col].quantile(0.75)\n",
        "    IQR = Q3 - Q1\n",
        "    lower = Q1 - 1.5 * IQR\n",
        "    upper = Q3 + 1.5 * IQR\n",
        "    df.loc[:, col] = df[col].clip(lower, upper)"
      ],
      "metadata": {
        "colab": {
          "base_uri": "https://localhost:8080/"
        },
        "id": "y4LLjxg5KTH5",
        "outputId": "e631d93c-56a9-40d0-94d3-c3b3e19082aa"
      },
      "execution_count": 30,
      "outputs": [
        {
          "output_type": "stream",
          "name": "stderr",
          "text": [
            "/tmp/ipython-input-3891835183.py:10: FutureWarning: Setting an item of incompatible dtype is deprecated and will raise in a future error of pandas. Value '[120.5   2.  111.  ...  32.   80.    2. ]' has dtype incompatible with int64, please explicitly cast to a compatible dtype first.\n",
            "  df.loc[:, col] = df[col].clip(lower, upper)\n",
            "/tmp/ipython-input-3891835183.py:10: FutureWarning: Setting an item of incompatible dtype is deprecated and will raise in a future error of pandas. Value '[88.  6. 42. ... 24. 61. 21.]' has dtype incompatible with int64, please explicitly cast to a compatible dtype first.\n",
            "  df.loc[:, col] = df[col].clip(lower, upper)\n"
          ]
        }
      ]
    },
    {
      "cell_type": "code",
      "source": [
        "# Final summary\n",
        "print(\"\\nFinal shape:\", df.shape)\n",
        "print(\"Remaining missing values:\", df.isnull().sum().sum())"
      ],
      "metadata": {
        "colab": {
          "base_uri": "https://localhost:8080/"
        },
        "id": "IUaqlLgAKg3g",
        "outputId": "3fba7ea1-ed12-40ed-e7e9-f7fc6edb20d0"
      },
      "execution_count": 33,
      "outputs": [
        {
          "output_type": "stream",
          "name": "stdout",
          "text": [
            "\n",
            "Final shape: (2240, 29)\n",
            "Remaining missing values: 1324\n"
          ]
        }
      ]
    },
    {
      "cell_type": "code",
      "source": [
        "# columns which still have missing values\n",
        "missing_cols = df.columns[df.isnull().any()].tolist()\n",
        "print(\"Columns still having missing values:\\n\", missing_cols)\n",
        "\n",
        "print(df[missing_cols].isnull().sum())"
      ],
      "metadata": {
        "colab": {
          "base_uri": "https://localhost:8080/"
        },
        "id": "tOaOO7ttYWsR",
        "outputId": "bf16e93f-b64f-4888-daed-950fa07b9a56"
      },
      "execution_count": 35,
      "outputs": [
        {
          "output_type": "stream",
          "name": "stdout",
          "text": [
            "Columns still having missing values:\n",
            " ['dt_customer']\n",
            "dt_customer    1324\n",
            "dtype: int64\n"
          ]
        }
      ]
    },
    {
      "cell_type": "code",
      "source": [
        "for col in missing_cols:\n",
        "    print(f\"\\n--- {col} ---\")\n",
        "    print(df[col].unique()[:10])\n",
        "    print(df[col].dtype)"
      ],
      "metadata": {
        "colab": {
          "base_uri": "https://localhost:8080/"
        },
        "id": "Gf2tvb4eYW3m",
        "outputId": "b8596a96-de1d-43e5-a6de-2ddc9bc9e5d9"
      },
      "execution_count": 36,
      "outputs": [
        {
          "output_type": "stream",
          "name": "stdout",
          "text": [
            "\n",
            "--- dt_customer ---\n",
            "<DatetimeArray>\n",
            "['2012-04-09 00:00:00', '2014-08-03 00:00:00',                 'NaT',\n",
            " '2014-10-02 00:00:00', '2013-09-09 00:00:00', '2013-08-05 00:00:00',\n",
            " '2013-06-06 00:00:00', '2012-10-10 00:00:00', '2012-03-11 00:00:00',\n",
            " '2012-08-08 00:00:00']\n",
            "Length: 10, dtype: datetime64[ns]\n",
            "datetime64[ns]\n"
          ]
        }
      ]
    },
    {
      "cell_type": "code",
      "source": [
        "df.replace([' ', 'NA', 'N/A', 'n/a', 'null', 'Null', 'NaN', 'nan', 'unknown'], np.nan, inplace=True)"
      ],
      "metadata": {
        "id": "EH1HCY5mYXBN"
      },
      "execution_count": 37,
      "outputs": []
    },
    {
      "cell_type": "code",
      "source": [
        "df = df.apply(lambda x: pd.to_numeric(x, errors='ignore'))"
      ],
      "metadata": {
        "colab": {
          "base_uri": "https://localhost:8080/"
        },
        "id": "g0Ynipd2YXLG",
        "outputId": "13bf4656-7180-4e1b-ef7e-47eeae8df1e5"
      },
      "execution_count": 38,
      "outputs": [
        {
          "output_type": "stream",
          "name": "stderr",
          "text": [
            "/tmp/ipython-input-3647172377.py:1: FutureWarning: errors='ignore' is deprecated and will raise in a future version. Use to_numeric without passing `errors` and catch exceptions explicitly instead\n",
            "  df = df.apply(lambda x: pd.to_numeric(x, errors='ignore'))\n"
          ]
        }
      ]
    },
    {
      "cell_type": "code",
      "source": [
        "# Fill remaining missing numeric values and categorical columns\n",
        "num_cols = df.select_dtypes(include='number').columns\n",
        "for col in num_cols:\n",
        "    df[col].fillna(df[col].median(), inplace=True)\n",
        "\n",
        "cat_cols = df.select_dtypes(include='object').columns\n",
        "for col in cat_cols:\n",
        "    df[col].fillna(df[col].mode()[0], inplace=True)"
      ],
      "metadata": {
        "colab": {
          "base_uri": "https://localhost:8080/"
        },
        "id": "7juo5eL5Y3WY",
        "outputId": "fbfd5aba-1a39-4600-f551-e14e48757af5"
      },
      "execution_count": 39,
      "outputs": [
        {
          "output_type": "stream",
          "name": "stderr",
          "text": [
            "/tmp/ipython-input-354378630.py:4: FutureWarning: A value is trying to be set on a copy of a DataFrame or Series through chained assignment using an inplace method.\n",
            "The behavior will change in pandas 3.0. This inplace method will never work because the intermediate object on which we are setting values always behaves as a copy.\n",
            "\n",
            "For example, when doing 'df[col].method(value, inplace=True)', try using 'df.method({col: value}, inplace=True)' or df[col] = df[col].method(value) instead, to perform the operation inplace on the original object.\n",
            "\n",
            "\n",
            "  df[col].fillna(df[col].median(), inplace=True)\n",
            "/tmp/ipython-input-354378630.py:9: FutureWarning: A value is trying to be set on a copy of a DataFrame or Series through chained assignment using an inplace method.\n",
            "The behavior will change in pandas 3.0. This inplace method will never work because the intermediate object on which we are setting values always behaves as a copy.\n",
            "\n",
            "For example, when doing 'df[col].method(value, inplace=True)', try using 'df.method({col: value}, inplace=True)' or df[col] = df[col].method(value) instead, to perform the operation inplace on the original object.\n",
            "\n",
            "\n",
            "  df[col].fillna(df[col].mode()[0], inplace=True)\n"
          ]
        }
      ]
    },
    {
      "cell_type": "code",
      "source": [
        "print(\"Remaining missing values:\", df.isnull().sum().sum())"
      ],
      "metadata": {
        "colab": {
          "base_uri": "https://localhost:8080/"
        },
        "id": "1kLO9qtVY9nm",
        "outputId": "5c3410c7-771d-46f3-bee9-23d0494ee10b"
      },
      "execution_count": 41,
      "outputs": [
        {
          "output_type": "stream",
          "name": "stdout",
          "text": [
            "Remaining missing values: 0\n"
          ]
        }
      ]
    },
    {
      "cell_type": "code",
      "source": [
        "# Save cleaned data\n",
        "df.to_csv(\"Cleaned_Customer_Personality.csv\", index=False)\n",
        "print(\"\\n Cleaned dataset saved successfully!\")"
      ],
      "metadata": {
        "colab": {
          "base_uri": "https://localhost:8080/"
        },
        "id": "RrUo1QaeKg-6",
        "outputId": "abf6ac5c-c3c8-4420-87e0-0f3f223bece7"
      },
      "execution_count": 42,
      "outputs": [
        {
          "output_type": "stream",
          "name": "stdout",
          "text": [
            "\n",
            " Cleaned dataset saved successfully!\n"
          ]
        }
      ]
    },
    {
      "cell_type": "code",
      "source": [],
      "metadata": {
        "id": "A9uOIRrpLUbv"
      },
      "execution_count": null,
      "outputs": []
    }
  ]
}